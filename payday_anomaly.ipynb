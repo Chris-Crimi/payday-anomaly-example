{
 "cells": [
  {
   "cell_type": "code",
   "execution_count": 2,
   "metadata": {},
   "outputs": [],
   "source": [
    "import pandas as pd\n",
    "import matplotlib\n",
    "import matplotlib.pyplot as plt\n",
    "import yfinance as yf\n",
    "import datetime"
   ]
  },
  {
   "cell_type": "markdown",
   "metadata": {},
   "source": [
    "Many U.S. workers are paid on the 1st and 15th of the month. When they receive their paycheck, a portion of their paycheck is invested for retirement automatically if they are enrolled in some sort of retirement plan (ie. 401k). The retirement funds invest this money usually the following day. So theoretically, buying equities on the 2nd and 16th of the month could offer some positive, uncorrelated return."
   ]
  },
  {
   "cell_type": "code",
   "execution_count": 36,
   "metadata": {},
   "outputs": [
    {
     "name": "stdout",
     "output_type": "stream",
     "text": [
      "[*********************100%***********************]  1 of 1 completed\n",
      "                  Open        High         Low       Close   Adj Close  \\\n",
      "Date                                                                     \n",
      "1995-01-03   45.703125   45.843750   45.687500   45.781250   27.157167   \n",
      "1995-01-04   45.984375   46.000000   45.750000   46.000000   27.286936   \n",
      "1995-01-05   46.031250   46.109375   45.953125   46.000000   27.286936   \n",
      "1995-01-06   46.093750   46.250000   45.906250   46.046875   27.314745   \n",
      "1995-01-09   46.031250   46.093750   46.000000   46.093750   27.342550   \n",
      "...                ...         ...         ...         ...         ...   \n",
      "2023-05-25  414.739990  416.160004  412.410004  414.649994  408.731110   \n",
      "2023-05-26  415.329987  420.769989  415.250000  420.019989  414.024445   \n",
      "2023-05-30  422.029999  422.579987  418.739990  420.179993  414.182159   \n",
      "2023-05-31  418.279999  419.220001  416.220001  417.850006  411.885437   \n",
      "2023-06-01  418.089996  422.920013  416.790009  421.820007  415.798767   \n",
      "\n",
      "               Volume  \n",
      "Date                   \n",
      "1995-01-03     324300  \n",
      "1995-01-04     351800  \n",
      "1995-01-05      89800  \n",
      "1995-01-06     448400  \n",
      "1995-01-09      36800  \n",
      "...               ...  \n",
      "2023-05-25   90961600  \n",
      "2023-05-26   93830000  \n",
      "2023-05-30   72216000  \n",
      "2023-05-31  110811800  \n",
      "2023-06-01   88865000  \n",
      "\n",
      "[7154 rows x 6 columns]\n"
     ]
    }
   ],
   "source": [
    "#don't re run this too much or yahoo finance will block you\n",
    "\n",
    "tickers = [\"SPY\"] \n",
    "\n",
    "start_date = \"1995-01-01\"\n",
    "end_date = \"2023-06-02\"\n",
    "\n",
    "data = yf.download(tickers, start=start_date, end=end_date)\n",
    "print(data)"
   ]
  },
  {
   "cell_type": "code",
   "execution_count": 37,
   "metadata": {},
   "outputs": [],
   "source": [
    "#reformat dataframe so we can use the date data in the index\n",
    "data = data.reset_index()\n",
    "data[\"Day\"] = data[\"Date\"].dt.day\n",
    "data[\"Weekday\"] = data[\"Date\"].dt.weekday"
   ]
  },
  {
   "cell_type": "markdown",
   "metadata": {},
   "source": [
    "The stratey: buy the SP500 at open and sell on close on the 2nd and 16th of the month. Excluding Friday, for some reason Friday hurts returns a lot."
   ]
  },
  {
   "cell_type": "code",
   "execution_count": 40,
   "metadata": {},
   "outputs": [],
   "source": [
    "cash_balance = 100000\n",
    "portfolio_value = []\n",
    "\n",
    "for day, weekday, open, close in zip(data[\"Day\"], data[\"Weekday\"], data[\"Open\"], data[\"Close\"]):\n",
    "    if (day == 2 or day == 16) and weekday != 4:\n",
    "        cash_balance = cash_balance * close/open\n",
    "    portfolio_value.append(cash_balance)\n",
    "    \n",
    "data[\"Portfolio Balance\"] = portfolio_value"
   ]
  },
  {
   "cell_type": "markdown",
   "metadata": {},
   "source": [
    "See below for backtest graph. I have found that if you exclude Fridays, total return is closer to 80% rather than the 60% if you include all days of 2nd and 16th. \n",
    "\n",
    "Questions:\n",
    "- how much return is attributable to each day under various conditions (like trading/not trading Fridays)?\n",
    "- any months that are consistently bad?\n",
    "- how holidays/news announcements impact this (like fed rate hikes or something)?\n",
    "- Recession underperformance (2000 & 2010), maybe cause people lose confidence in investing?\n",
    "- are there other days when not to trade or should trade?"
   ]
  },
  {
   "cell_type": "code",
   "execution_count": 41,
   "metadata": {},
   "outputs": [
    {
     "data": {
      "image/png": "[encoded data removed]",
      "text/plain": [
       "<Figure size 432x288 with 1 Axes>"
      ]
     },
     "metadata": {
      "needs_background": "light"
     },
     "output_type": "display_data"
    }
   ],
   "source": [
    "plt.plot(data[\"Date\"],data[\"Portfolio Balance\"])\n",
    "plt.show()"
   ]
  },
  {
   "cell_type": "code",
   "execution_count": null,
   "metadata": {},
   "outputs": [],
   "source": []
  }
 ],
 "metadata": {
  "kernelspec": {
   "display_name": "base",
   "language": "python",
   "name": "python3"
  },
  "language_info": {
   "codemirror_mode": {
    "name": "ipython",
    "version": 3
   },
   "file_extension": ".py",
   "mimetype": "text/x-python",
   "name": "python",
   "nbconvert_exporter": "python",
   "pygments_lexer": "ipython3",
   "version": "3.7.16"
  }
 },
 "nbformat": 4,
 "nbformat_minor": 2
}
